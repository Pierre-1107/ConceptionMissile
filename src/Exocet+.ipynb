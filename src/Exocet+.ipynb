{
 "cells": [
  {
   "cell_type": "code",
   "execution_count": 53,
   "metadata": {},
   "outputs": [],
   "source": [
    "import numpy as np\n",
    "import matplotlib.pyplot as plt\n",
    "import pandas as pd\n",
    "from typing import Tuple\n",
    "from termcolor import colored"
   ]
  },
  {
   "cell_type": "markdown",
   "metadata": {},
   "source": [
    "<div class=\"alert alert-warning\" align=\"center\"><b>DIMENSIONNEMENT DE L'EXOCET+</b></div>"
   ]
  },
  {
   "cell_type": "code",
   "execution_count": 54,
   "metadata": {},
   "outputs": [],
   "source": [
    "## DONNÉES\n",
    "\n",
    "P = 101325.0\n",
    "T = 288.0\n",
    "r_air = 8.314/(28.966*1e-3)\n",
    "gamma = 1.4\n",
    "Cd_c = 0.4\n",
    "Mach_cruise = 2.0\n",
    "Mach_acc = 0.6\n",
    "g0 = 9.80665\n",
    "v_son = np.sqrt(gamma * r_air * T)\n",
    "distance_max = 100 * 1e3"
   ]
  },
  {
   "cell_type": "markdown",
   "metadata": {},
   "source": [
    "<div class=\"alert alert-info\" align=\"center\">TEMPS DE MISSION</div>"
   ]
  },
  {
   "cell_type": "code",
   "execution_count": 55,
   "metadata": {},
   "outputs": [
    {
     "name": "stdout",
     "output_type": "stream",
     "text": [
      "Temps d'accélération du missile = \u001b[33m4.85655564067031\u001b[0m s\n",
      "\n",
      "Distance parcourue pendant la phase d'accélération = \u001b[33m2147.7945185679855\u001b[0m m\n",
      "\n",
      "Temps durant la phase de croisière = \u001b[33m143.82010925319975\u001b[0m s\n",
      "\n",
      "Temps de mission = \u001b[34m148.67666489387005\u001b[0m s\n",
      "\n",
      "\u001b[32mLa mission est réalisble\u001b[0m\n"
     ]
    }
   ],
   "source": [
    "Gamma = 10 * g0\n",
    "t_acc = np.divide((Mach_cruise - Mach_acc) * v_son, Gamma)\n",
    "print(f\"Temps d'accélération du missile = {colored(t_acc, 'yellow')} s\\n\")\n",
    "\n",
    "x_acc = 0.5 * Gamma * t_acc **2 + Mach_acc * v_son * t_acc\n",
    "print(f\"Distance parcourue pendant la phase d'accélération = {colored(x_acc, 'yellow')} m\\n\")\n",
    "\n",
    "t_cruise = (distance_max - x_acc) / (Mach_cruise * v_son)\n",
    "print(f\"Temps durant la phase de croisière = {colored(t_cruise, 'yellow')} s\\n\")\n",
    "\n",
    "t_mission = t_acc + t_cruise\n",
    "print(f\"Temps de mission = {colored(t_mission, 'blue')} s\\n\")\n",
    "\n",
    "if t_mission <= 200:\n",
    "    print(f\"{colored('La mission est réalisble', 'green')}\")\n",
    "else:\n",
    "    print(f\"{colored('La mission n est pas réalisable', 'red')}\")"
   ]
  },
  {
   "cell_type": "markdown",
   "metadata": {},
   "source": [
    "<div class=\"alert alert-info\" align=\"center\">PHASE DE VOL</div>"
   ]
  },
  {
   "cell_type": "code",
   "execution_count": 56,
   "metadata": {},
   "outputs": [
    {
     "name": "stdout",
     "output_type": "stream",
     "text": [
      "Diamètre du missile = \u001b[33m0.5650426743788414\u001b[0m m\n",
      "\n",
      "Masse de propergol durant la phase de croisière = \u001b[33m2040.3098199921535\u001b[0m kg\n",
      "\n",
      "Masse du résevoir de propergol pendant la phase de croisière = \u001b[33m360.05467411626233\u001b[0m kg\n",
      "\n",
      "Longueur du propergol = \u001b[33m4.520341395030731\u001b[0m m\n",
      "\n",
      "Volume du réservoir de propergol pendant la phase de croisère = \u001b[33m1.5113406074015951\u001b[0m m^3\n",
      "\n",
      "Longueur du réservoir de propergol pendant la phase de vol = \u001b[33m6.027121860040975\u001b[0m m^3\n",
      "\n"
     ]
    }
   ],
   "source": [
    "## DONNÉES\n",
    "\n",
    "Isp_c = 225.0\n",
    "s = 1.1\n",
    "i_c = 0.15\n",
    "C_c = 0.75\n",
    "rho_c = 1800.0\n",
    "\n",
    "## FUNCTION\n",
    "\n",
    "mass_cr = lambda m_cp: (i_c * m_cp) / (1 - i_c)\n",
    "\n",
    "length_cp = lambda d_m: 8 * d_m\n",
    "\n",
    "volume_cr = lambda m_cp, C_c, rho_c: np.divide(m_cp, C_c * rho_c)\n",
    "\n",
    "length_cr = lambda d_m, V_cr: np.divide(4 * V_cr, np.pi * d_m**2)\n",
    "\n",
    "def missile_diam(gamma:float, P_amb:float, Cd:float, M_cruise:float, t_cruise:float, rho:float, g:float, Isp:float, s:float) -> float:\n",
    "    return s * np.divide(gamma * P_amb * Cd * M_cruise**2 * t_cruise, 16 * rho * g * Isp)\n",
    "\n",
    "def mass_cruise_propergol(gamma:float, P_amb:float, Cd:float, M_cruise:float, s:float, g:float, Isp:float, t_cruise:float, d_mis:float) -> float:\n",
    "    return s * np.divide(np.pi * gamma * P_amb * M_cruise**2 * Cd * d_mis**2, 8 * g * Isp) * t_cruise\n",
    "\n",
    "## CODE\n",
    "d_m = missile_diam(gamma=gamma, P_amb=P, Cd=Cd_c, M_cruise=Mach_cruise,\n",
    "                   t_cruise=t_cruise, rho=rho_c, g=g0, Isp=Isp_c, s=s)\n",
    "print(f\"Diamètre du missile = {colored(d_m, 'yellow')} m\\n\")\n",
    "\n",
    "m_cp = mass_cruise_propergol(gamma=gamma, P_amb=P, Cd=Cd_c, M_cruise=Mach_cruise, \n",
    "                             s=s, g=g0, Isp=Isp_c, t_cruise=t_cruise, d_mis=d_m)\n",
    "print(f\"Masse de propergol durant la phase de croisière = {colored(m_cp, 'yellow')} kg\\n\")\n",
    "\n",
    "m_cr = mass_cr(m_cp=m_cp)\n",
    "print(f\"Masse du résevoir de propergol pendant la phase de croisière = {colored(m_cr, 'yellow')} kg\\n\")\n",
    "\n",
    "L_cp = length_cp(d_m=d_m)\n",
    "print(f\"Longueur du propergol = {colored(L_cp, 'yellow')} m\\n\")\n",
    "\n",
    "V_cr = volume_cr(m_cp=m_cp, C_c=C_c, rho_c=rho_c)\n",
    "print(f\"Volume du réservoir de propergol pendant la phase de croisère = {colored(V_cr, 'yellow')} m^3\\n\")\n",
    "\n",
    "L_cr = length_cr(d_m=d_m, V_cr=V_cr)\n",
    "print(f\"Longueur du réservoir de propergol pendant la phase de vol = {colored(L_cr, 'yellow')} m^3\\n\")"
   ]
  },
  {
   "cell_type": "markdown",
   "metadata": {},
   "source": [
    "<div class=\"alert alert-info\" align=\"center\">PHASE D'ACCÉLÉRATION</div>"
   ]
  },
  {
   "cell_type": "code",
   "execution_count": 57,
   "metadata": {},
   "outputs": [
    {
     "name": "stdout",
     "output_type": "stream",
     "text": [
      "Masse des ailes = \u001b[33m83.85464477383869\u001b[0m kg\n",
      "\n",
      "Masse à vide pour pendant la phase d'accélération = \u001b[31m2764.219138882255\u001b[0m kg\n",
      "\n",
      "Masse de propergol pour la phase d'accélération = \u001b[33m520.7757629607802\u001b[0m kg\n",
      "\n",
      "Volume de propergol pour la phase d'accélération = \u001b[33m0.28931986831154455\u001b[0m m^3\n",
      "\n",
      "Volume du réservoir de propergol pour la phase d'accélération = \u001b[33m0.4133140975879208\u001b[0m m^3\n",
      "\n",
      "Longueur du propergol pour la phase d'accélération = \u001b[33m1.1537876335121398\u001b[0m m\n",
      "\n",
      "Longueur du réservoir d'ergol pour la phase d'accélération = \u001b[33m1.6482680478744856\u001b[0m m\n",
      "\n",
      "Masse du réservoir de propergol lors de la phase d'accélération = \u001b[33m99.195383421101\u001b[0m kg\n",
      "\n"
     ]
    }
   ],
   "source": [
    "## DONNÉES\n",
    "\n",
    "Isp_acc = 240.0\n",
    "C_acc = 0.7\n",
    "i_acc = 0.16\n",
    "rho_acc = 1800.0\n",
    "\n",
    "Delta_V = (Mach_cruise - Mach_acc) * v_son\n",
    "m_ogive, m_equipement, m_payload = 25.0, 55.0, 200.0\n",
    "\n",
    "## FUNCTION\n",
    "\n",
    "mass_wings = lambda d_m: 20 + 200 * d_m**2\n",
    "\n",
    "length_ap = lambda d_m, V_ap: np.divide(4 * V_ap, np.pi * d_m**2)\n",
    "\n",
    "mass_ar = lambda m_ap, i_a: i_a * m_ap / (1 - i_a)\n",
    "\n",
    "def mass_acc_prop(i_a:float, Isp:float, g:float, mass_empty:float, DeltaV:float) -> float:\n",
    "    return (1 - i_a) * mass_empty * (np.exp(DeltaV / (Isp * g)) - 1)\n",
    "\n",
    "## CODE\n",
    "m_wings = mass_wings(d_m=d_m)\n",
    "print(f\"Masse des ailes = {colored(m_wings, 'yellow')} kg\\n\")\n",
    "\n",
    "m_vide_arr = np.array([m_ogive, m_equipement, m_payload, m_wings, m_cp, m_cr])\n",
    "m_vide = np.sum(m_vide_arr)\n",
    "print(f\"Masse à vide pour pendant la phase d'accélération = {colored(m_vide, 'red')} kg\\n\")\n",
    "\n",
    "m_ap = mass_acc_prop(i_a=i_acc, Isp=Isp_acc, g=g0, mass_empty=m_vide, DeltaV=Delta_V)\n",
    "print(f\"Masse de propergol pour la phase d'accélération = {colored(m_ap, 'yellow')} kg\\n\")\n",
    "\n",
    "V_ap = m_ap / rho_acc\n",
    "print(f\"Volume de propergol pour la phase d'accélération = {colored(V_ap, 'yellow')} m^3\\n\")\n",
    "\n",
    "V_ar = V_ap / C_acc\n",
    "print(f\"Volume du réservoir de propergol pour la phase d'accélération = {colored(V_ar, 'yellow')} m^3\\n\")\n",
    "\n",
    "L_ap = length_ap(d_m=d_m, V_ap=V_ap)\n",
    "print(f\"Longueur du propergol pour la phase d'accélération = {colored(L_ap, 'yellow')} m\\n\")\n",
    "\n",
    "L_ar = L_ap / C_acc\n",
    "print(f\"Longueur du réservoir d'ergol pour la phase d'accélération = {colored(L_ar, 'yellow')} m\\n\")\n",
    "\n",
    "m_ar = mass_ar(m_ap=m_ap, i_a=i_acc)\n",
    "print(f\"Masse du réservoir de propergol lors de la phase d'accélération = {colored(m_ar, 'yellow')} kg\\n\")"
   ]
  },
  {
   "cell_type": "markdown",
   "metadata": {},
   "source": [
    "<div class=\"alert alert-info\" align=\"center\">EXPRESSION DES CARACTÉRISTIQUES GLOBALES DU MISSILE</div>"
   ]
  },
  {
   "cell_type": "code",
   "execution_count": 58,
   "metadata": {},
   "outputs": [
    {
     "name": "stdout",
     "output_type": "stream",
     "text": [
      "Longueur :\n",
      "    - equipement : \u001b[34m0.146224131819929\u001b[0m m\n",
      "    - payload : \u001b[34m0.26586205785441636\u001b[0m m\n",
      "    - ogive : \u001b[34m1.6951280231365242\u001b[0m m\n",
      "\n",
      "Longueur totale du missile EXOCET+ = \u001b[34m9.78260412072633\u001b[0m m\n",
      "\n",
      "Masse totale du missile EXOCET+ = \u001b[34m3384.1902852641356\u001b[0m kg\n",
      "\n",
      "Diamètre du missile EXOCET+ = \u001b[34m0.5650426743788414\u001b[0m m\n",
      "\n"
     ]
    }
   ],
   "source": [
    "## FUNCTION\n",
    "\n",
    "volume = lambda mass, rho: np.divide(mass, rho)\n",
    "length = lambda V, d_m: np.divide(4 * V, np.pi * d_m**2)\n",
    "\n",
    "## DONNÉES\n",
    "rho_eq = 1500\n",
    "rho_payload = 3000\n",
    "\n",
    "## CODE\n",
    "\n",
    "L_ogive = 3 * d_m\n",
    "\n",
    "m_tot_missile_arr = np.concatenate([m_vide_arr, [m_ap, m_ar]])\n",
    "m_tot = np.sum(m_tot_missile_arr)\n",
    "\n",
    "V_eq = volume(mass=m_equipement, rho=rho_eq)\n",
    "V_payload = volume(mass=m_payload, rho=rho_payload)\n",
    "\n",
    "L_eq = length(V=V_eq, d_m=d_m)\n",
    "L_payload = length(V=V_payload, d_m=d_m)\n",
    "print(f\"Longueur :\\n    - equipement : {colored(L_eq, 'blue')} m\\n    - payload : {colored(L_payload, 'blue')} m\\n    - ogive : {colored(L_ogive, 'blue')} m\\n\")\n",
    "\n",
    "L_tot_arr = np.array([L_ogive, L_eq, L_payload, L_ar, L_cr])\n",
    "L_tot = np.sum(L_tot_arr)\n",
    "print(f\"Longueur totale du missile EXOCET+ = {colored(L_tot, 'blue')} m\\n\")\n",
    "\n",
    "print(f\"Masse totale du missile EXOCET+ = {colored(m_tot, 'blue')} kg\\n\")\n",
    "\n",
    "print(f\"Diamètre du missile EXOCET+ = {colored(d_m, 'blue')} m\\n\")"
   ]
  }
 ],
 "metadata": {
  "kernelspec": {
   "display_name": "Elisa5",
   "language": "python",
   "name": "python3"
  },
  "language_info": {
   "codemirror_mode": {
    "name": "ipython",
    "version": 3
   },
   "file_extension": ".py",
   "mimetype": "text/x-python",
   "name": "python",
   "nbconvert_exporter": "python",
   "pygments_lexer": "ipython3",
   "version": "3.8.19"
  }
 },
 "nbformat": 4,
 "nbformat_minor": 2
}
